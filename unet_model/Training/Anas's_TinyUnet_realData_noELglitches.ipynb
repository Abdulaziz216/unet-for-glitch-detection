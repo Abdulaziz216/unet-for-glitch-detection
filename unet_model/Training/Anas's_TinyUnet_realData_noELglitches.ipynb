{
 "cells": [
  {
   "cell_type": "markdown",
   "id": "8c455dbe",
   "metadata": {},
   "source": [
    "# Multi-Label U-Net Training (With No Electronic Glitches) on Real ACT Data"
   ]
  },
  {
   "cell_type": "markdown",
   "id": "83a18320",
   "metadata": {},
   "source": [
    "## 1. Imports and Configuration"
   ]
  },
  {
   "cell_type": "code",
   "execution_count": 16,
   "id": "28a6617a",
   "metadata": {},
   "outputs": [],
   "source": [
    "import os\n",
    "from pathlib import Path\n",
    "import random\n",
    "import time\n",
    "import datetime\n",
    "import csv\n",
    "import numpy as np\n",
    "import torch\n",
    "import torch.nn as nn\n",
    "from torch.utils.data import Dataset, DataLoader\n",
    "from torchvision import transforms\n",
    "import matplotlib.pyplot as plt\n",
    "from tqdm import tqdm, trange\n",
    "\n",
    "from torchmetrics.classification import MultilabelJaccardIndex, MultilabelAccuracy\n",
    "\n"
   ]
  },
  {
   "cell_type": "markdown",
   "id": "def9ce1a",
   "metadata": {},
   "source": [
    "### 1.1. Configuration"
   ]
  },
  {
   "cell_type": "code",
   "execution_count": null,
   "id": "9a937ab7",
   "metadata": {},
   "outputs": [
    {
     "name": "stdout",
     "output_type": "stream",
     "text": [
      "Device: cuda, CUDA Available: True\n"
     ]
    }
   ],
   "source": [
    "NUM_CLASSES    = 3                   # CR, PS, EL\n",
    "BATCH_SIZE     = 8\n",
    "EPOCHS         = 10 * 12\n",
    "LR             = 1e-3\n",
    "DEVICE         = \"cuda\" if torch.cuda.is_available() else \"cpu\"\n",
    "CPU_COUNT      = os.cpu_count()\n",
    "NUM_WORKERS    = 32\n",
    "\n",
    "CHECKPOINT_DIR = Path(\"checkpoints_multilabel_noEL\")\n",
    "CHECKPOINT_DIR.mkdir(exist_ok=True)\n",
    "LOG_PATH       = Path(\"run_log_multilabel_noEL.csv\")\n",
    "\n",
    "print(f\"Device: {DEVICE}, CUDA Available: {torch.cuda.is_available()}\")"
   ]
  },
  {
   "cell_type": "markdown",
   "id": "54af7853",
   "metadata": {},
   "source": [
    "## 2. Sanity Check: Load & Display One Raw Image"
   ]
  },
  {
   "cell_type": "code",
   "execution_count": 18,
   "id": "fa263ea3",
   "metadata": {},
   "outputs": [
    {
     "name": "stdout",
     "output_type": "stream",
     "text": [
      "Raw image range: min=0.0, max=181.0\n"
     ]
    },
    {
     "data": {
      "image/png": "[encoded data removed]",
      "text/plain": [
       "<Figure size 400x400 with 1 Axes>"
      ]
     },
     "metadata": {},
     "output_type": "display_data"
    }
   ],
   "source": [
    "example_img_path = Path(\"/home/theanas12/anasProjects/cmb_Unet_run1/data/real_converted_images32/images/point_source/TOD_1567419530.1567428401.ar5:f090_converted_10914-11427.png\")\n",
    "\n",
    "# Load and display\n",
    "import PIL.Image as Image\n",
    "img = np.array(Image.open(example_img_path).convert('F'), dtype=np.float32)\n",
    "print(f\"Raw image range: min={img.min()}, max={img.max()}\")\n",
    "plt.figure(figsize=(4,4))\n",
    "plt.imshow(img, cmap='gray')\n",
    "plt.title('Raw focal-plane image (float)')\n",
    "plt.axis('off')\n",
    "plt.show()"
   ]
  },
  {
   "cell_type": "markdown",
   "id": "5d5bb557",
   "metadata": {},
   "source": [
    "## 3. Optional Normalization Transform"
   ]
  },
  {
   "cell_type": "code",
   "execution_count": 19,
   "id": "20fa381c",
   "metadata": {},
   "outputs": [
    {
     "name": "stdout",
     "output_type": "stream",
     "text": [
      "Normalized image range: min=0.000, max=1.000\n"
     ]
    },
    {
     "data": {
      "image/png": "[encoded data removed]",
      "text/plain": [
       "<Figure size 400x400 with 1 Axes>"
      ]
     },
     "metadata": {},
     "output_type": "display_data"
    }
   ],
   "source": [
    "# Re-apply the same normalization as synthetic pipeline if needed.\n",
    "# Here: percentile clipping to [0.5,99.5] then scale to [0,1].\n",
    "# %%\n",
    "def pct_clip_norm(img, lo_pct=0.5, hi_pct=99.5):\n",
    "    lo, hi = np.percentile(img, [lo_pct, hi_pct])\n",
    "    img2 = np.clip(img, lo, hi)\n",
    "    return (img2 - lo) / (hi - lo + 1e-12)\n",
    "\n",
    "# Sanity check of normalization\n",
    "normed = pct_clip_norm(img)\n",
    "print(f\"Normalized image range: min={normed.min():.3f}, max={normed.max():.3f}\")\n",
    "plt.figure(figsize=(4,4))\n",
    "plt.imshow(normed, cmap='gray')\n",
    "plt.title('Percentile-clipped & scaled image')\n",
    "plt.axis('off')\n",
    "plt.show()"
   ]
  },
  {
   "cell_type": "markdown",
   "id": "546e49d2",
   "metadata": {},
   "source": [
    "## 4. Dataset Definition"
   ]
  },
  {
   "cell_type": "code",
   "execution_count": 20,
   "id": "3a4bc0e1",
   "metadata": {},
   "outputs": [],
   "source": [
    "class TelescopeDataset(Dataset):\n",
    "    def __init__(self, img_dir, mask_dir_base, transform=None):\n",
    "        \"\"\"\n",
    "        img_dir           : Path to images/<class> subfolders\n",
    "        mask_dir_base     : Path to base masks folder containing class subfolders\n",
    "        transform         : function to normalize image arrays\n",
    "        \"\"\"\n",
    "        self.transform = transform\n",
    "        self.samples = []\n",
    "        for cls in ['cosmic_ray', 'point_source', 'none']:\n",
    "            cls_img_dir = img_dir / cls\n",
    "            for img_path in cls_img_dir.glob(\"*.png\"):\n",
    "                self.samples.append((img_path, cls))\n",
    "        self.mask_dir_base = mask_dir_base\n",
    "\n",
    "    def __len__(self):\n",
    "        return len(self.samples)\n",
    "\n",
    "    def __getitem__(self, idx):\n",
    "        img_path, cls = self.samples[idx]\n",
    "        # Load and normalize image\n",
    "        img_arr = np.array(Image.open(img_path).convert('F'), dtype=np.float32)\n",
    "        if self.transform:\n",
    "            img_arr = self.transform(img_arr)\n",
    "        img_tensor = torch.tensor(img_arr, dtype=torch.float32).unsqueeze(0)  # (1,H,W)\n",
    "        # Load three masks by stacking binary arrays (missing masks become all-zero)\n",
    "        mask_list = []\n",
    "        for mcls in ['cosmic_ray', 'point_source', 'none']:\n",
    "            mask_path = self.mask_dir_base / mcls / img_path.name\n",
    "            if mask_path.exists():\n",
    "                m_arr = np.array(Image.open(mask_path).convert('L'), dtype=np.uint8)\n",
    "                mask = (m_arr > 0).astype(np.uint8)\n",
    "            else:\n",
    "                mask = np.zeros_like(img_arr, dtype=np.uint8)\n",
    "            mask_list.append(mask)\n",
    "        mask_tensor = torch.tensor(np.stack(mask_list, 0), dtype=torch.float32)  # (3,H,W)\n",
    "        return img_tensor, mask_tensor"
   ]
  },
  {
   "cell_type": "markdown",
   "id": "c1d1ffc5",
   "metadata": {},
   "source": [
    "## 5. Prepare DataLoaders"
   ]
  },
  {
   "cell_type": "code",
   "execution_count": 21,
   "id": "2ef3d24a",
   "metadata": {},
   "outputs": [
    {
     "name": "stdout",
     "output_type": "stream",
     "text": [
      "Dataset sizes → train: 1848, val: 396, test: 397\n"
     ]
    },
    {
     "name": "stdout",
     "output_type": "stream",
     "text": [
      "torch.Size([8, 1, 32, 32]) torch.Size([8, 3, 32, 32])\n",
      "torch.Size([8, 1, 32, 32]) torch.Size([8, 3, 32, 32])\n"
     ]
    }
   ],
   "source": [
    "base = Path(\"/home/theanas12/anasProjects/cmb_Unet_run1/data/real_converted_images32\")\n",
    "# mask_dir_base points to the 'masks' folder containing class subfolders\n",
    "dataset = TelescopeDataset(\n",
    "    img_dir=base / 'images',\n",
    "    mask_dir_base=base / 'masks',\n",
    "    transform=pct_clip_norm\n",
    ")\n",
    "\n",
    "# Split into train/val/test\n",
    "tot = len(dataset)\n",
    "train_end = int(tot * 0.7)\n",
    "val_end   = int(tot * 0.85)\n",
    "indices = list(range(tot))\n",
    "random.shuffle(indices)\n",
    "train_idx, val_idx, test_idx = indices[:train_end], indices[train_end:val_end], indices[val_end:]\n",
    "\n",
    "train_ds = torch.utils.data.Subset(dataset, train_idx)\n",
    "val_ds   = torch.utils.data.Subset(dataset, val_idx)\n",
    "test_ds  = torch.utils.data.Subset(dataset, test_idx)\n",
    "\n",
    "train_loader = DataLoader(train_ds, batch_size=BATCH_SIZE, shuffle=True, num_workers=NUM_WORKERS)\n",
    "val_loader   = DataLoader(val_ds,   batch_size=BATCH_SIZE, shuffle=False, num_workers=NUM_WORKERS)\n",
    "test_loader  = DataLoader(test_ds,  batch_size=BATCH_SIZE, shuffle=False, num_workers=NUM_WORKERS)\n",
    "\n",
    "print(f\"Dataset sizes → train: {len(train_ds)}, val: {len(val_ds)}, test: {len(test_ds)}\")\n",
    "\n",
    "# Sanity check a batch\n",
    "i_imgs, i_msks = next(iter(train_loader))\n",
    "print(i_imgs.shape, i_msks.shape)  # expect (B,1,H,W), (B,3,H,W)\n",
    "i_imgs, i_msks = next(iter(train_loader))\n",
    "print(i_imgs.shape, i_msks.shape)  # expect (B,1,H,W), (B,3,H,W)\n"
   ]
  },
  {
   "cell_type": "markdown",
   "id": "05189333",
   "metadata": {},
   "source": [
    "## 6. Model, Losses, Metrics, Optimizer"
   ]
  },
  {
   "cell_type": "code",
   "execution_count": 22,
   "id": "52f0680e",
   "metadata": {},
   "outputs": [],
   "source": [
    "class ConvBNReLU(nn.Sequential):\n",
    "    def __init__(self, in_c, out_c):\n",
    "        super().__init__(\n",
    "            nn.Conv2d(in_c, out_c, 3, padding=1, bias=False),\n",
    "            nn.BatchNorm2d(out_c),\n",
    "            nn.ReLU(inplace=True)\n",
    "        )\n",
    "\n",
    "class TinyUNet(nn.Module):\n",
    "    def __init__(self, n_classes=NUM_CLASSES, base_c=32,\n",
    "                 p_drop=0.25, pre_norm=None):\n",
    "        \"\"\"\n",
    "        pre_norm : nn.Module that normalises the input, e.g. ZNorm.\n",
    "                   If None → nn.Identity().\n",
    "        \"\"\"\n",
    "        super().__init__()\n",
    "        self.pre_norm = pre_norm if pre_norm is not None else nn.Identity()\n",
    "\n",
    "        # ────────────── Encoder ──────────────\n",
    "        self.enc1 = nn.Sequential(ConvBNReLU(1,  base_c),\n",
    "                                  ConvBNReLU(base_c, base_c))\n",
    "        self.enc2 = nn.Sequential(nn.MaxPool2d(2),\n",
    "                                  ConvBNReLU(base_c, base_c*2))\n",
    "        # Bottleneck\n",
    "        self.bott = nn.Sequential(nn.MaxPool2d(2),\n",
    "                                  ConvBNReLU(base_c*2, base_c*4))\n",
    "        # Decoder\n",
    "        self.up1  = nn.ConvTranspose2d(base_c*4, base_c*2, 2, stride=2)\n",
    "        self.dec1 = nn.Sequential(ConvBNReLU(base_c*4, base_c*2),\n",
    "                                  nn.Dropout2d(p=p_drop))\n",
    "        self.up2  = nn.ConvTranspose2d(base_c*2, base_c, 2, stride=2)\n",
    "        self.dec2 = nn.Sequential(ConvBNReLU(base_c*2, base_c),\n",
    "                                  nn.Dropout2d(p=p_drop))\n",
    "        # Output\n",
    "        self.outc = nn.Conv2d(base_c, n_classes, 1)\n",
    "\n",
    "    def forward(self, x):\n",
    "        x  = self.pre_norm(x)\n",
    "        e1 = self.enc1(x)\n",
    "        e2 = self.enc2(e1)\n",
    "        b  = self.bott(e2)\n",
    "        d1 = self.up1(b)\n",
    "        d1 = self.dec1(torch.cat([d1, e2], dim=1))\n",
    "        d2 = self.up2(d1)\n",
    "        d2 = self.dec2(torch.cat([d2, e1], dim=1))\n",
    "        return self.outc(d2)          # logits\n",
    "\n",
    "\n",
    "\n",
    "class DiceLoss(nn.Module):\n",
    "    def __init__(self, eps=1e-6):\n",
    "        super().__init__(); self.eps = eps\n",
    "    def forward(self, preds, targets):\n",
    "        preds = torch.sigmoid(preds)\n",
    "        num = 2 * (preds * targets).sum(dim=(2,3))\n",
    "        den = preds.sum(dim=(2,3)) + targets.sum(dim=(2,3)) + self.eps\n",
    "        dice = 1 - (num / den)\n",
    "        return dice.mean()\n",
    "    \n",
    "\n",
    "model = TinyUNet(n_classes=NUM_CLASSES).to(DEVICE)\n",
    "\n",
    "\n",
    "bce_loss = nn.BCEWithLogitsLoss()\n",
    "dice_loss = DiceLoss()\n",
    "\n",
    "# Metrics\n",
    "metric_iou = MultilabelJaccardIndex(num_labels=NUM_CLASSES, threshold=0.5, average=None).to(DEVICE)\n",
    "metric_acc = MultilabelAccuracy(num_labels=NUM_CLASSES, threshold=0.5, average=None).to(DEVICE)\n",
    "\n",
    "# Optimizer & scheduler\n",
    "opt = torch.optim.Adam(model.parameters(), lr=LR, weight_decay=1e-4)\n",
    "sched = torch.optim.lr_scheduler.ReduceLROnPlateau(opt, mode='min', patience=3, factor=0.3)\n"
   ]
  },
  {
   "cell_type": "markdown",
   "id": "5c0d3c12",
   "metadata": {},
   "source": [
    "## 7. Training & Validation Loops"
   ]
  },
  {
   "cell_type": "markdown",
   "id": "bfd73f5e",
   "metadata": {},
   "source": [
    "### 7.1.Epoch Function"
   ]
  },
  {
   "cell_type": "code",
   "execution_count": 23,
   "id": "fec7f210",
   "metadata": {},
   "outputs": [],
   "source": [
    "def run_epoch(loader, train=True, epoch_idx=0):\n",
    "    model.train(train)\n",
    "    total_loss, n_batches = 0.0, 0\n",
    "    metric_iou.reset(); metric_acc.reset()\n",
    "\n",
    "    loop = tqdm(loader, desc=(\"train\" if train else \"val\") + f\" {epoch_idx:03d}\", leave=False)\n",
    "    for batch_idx, (imgs, msks) in enumerate(loop):\n",
    "        imgs, msks = imgs.to(DEVICE), msks.to(DEVICE)\n",
    "        # Sanity check on first batch of first epoch\n",
    "        if batch_idx == 0 and epoch_idx == 1:\n",
    "            print(f\"[Sanity] imgs.shape={imgs.shape}, msks.shape={msks.shape}\")\n",
    "        logits = model(imgs)\n",
    "        if batch_idx == 0 and epoch_idx == 1:\n",
    "            print(f\"[Sanity] logits.shape={logits.shape}, msks.shape={msks.shape}\")\n",
    "        # Compute loss\n",
    "        loss = 0.5 * bce_loss(logits, msks) + 0.5 * dice_loss(logits, msks)\n",
    "        if train:\n",
    "            opt.zero_grad()\n",
    "            loss.backward()\n",
    "            opt.step()\n",
    "        total_loss += loss.item()\n",
    "        n_batches += 1\n",
    "\n",
    "        # Update metrics and progress bar\n",
    "        metric_iou.update(torch.sigmoid(logits), msks.int())\n",
    "        metric_acc.update(torch.sigmoid(logits), msks.int())\n",
    "        loop.set_postfix(loss=loss.item())\n",
    "\n",
    "    avg_loss = total_loss / n_batches\n",
    "    iou = metric_iou.compute()\n",
    "    acc = metric_acc.compute()\n",
    "    mean_iou = iou.mean().item()\n",
    "    return avg_loss, mean_iou, acc.mean().item(), iou, acc"
   ]
  },
  {
   "cell_type": "markdown",
   "id": "17b3fa6d",
   "metadata": {},
   "source": [
    "### 7.2. Saving Checkpoints and Logging Logic"
   ]
  },
  {
   "cell_type": "code",
   "execution_count": null,
   "id": "750c2e77",
   "metadata": {},
   "outputs": [],
   "source": [
    "def save_ckpt(model, optimizer, epoch, tag):\n",
    "    fname = CHECKPOINT_DIR / f\"unet_multilabel_noEL_ep{epoch}_{tag}.pt\"\n",
    "    torch.save({\n",
    "        \"epoch\":      epoch,\n",
    "        \"model\":      model.state_dict(),\n",
    "        \"optimizer\":  optimizer.state_dict()\n",
    "    }, fname)\n",
    "    print(f\"✅  saved → {fname}\")\n",
    "\n",
    "\n",
    "def next_run_id():\n",
    "    \"\"\"Auto-increment run ID by counting existing lines in run_log.csv.\"\"\"\n",
    "    if LOG_PATH.exists():\n",
    "        with LOG_PATH.open() as f:\n",
    "            return sum(1 for _ in f)            # header + previous rows\n",
    "    return 1                                    # first ever run\n",
    "\n",
    "def log_run(**fields):\n",
    "    \"\"\"Append one line to LOG_PATH (create with header if missing).\"\"\"\n",
    "    header_needed = not LOG_PATH.exists()\n",
    "    with LOG_PATH.open(\"a\", newline=\"\") as f:\n",
    "        writer = csv.DictWriter(f, fieldnames=fields.keys())\n",
    "        if header_needed:\n",
    "            writer.writeheader()\n",
    "        writer.writerow(fields)\n"
   ]
  },
  {
   "cell_type": "markdown",
   "id": "bb7e976a",
   "metadata": {},
   "source": [
    "### 7.3. Training Loop"
   ]
  },
  {
   "cell_type": "code",
   "execution_count": null,
   "id": "c05e3cda",
   "metadata": {},
   "outputs": [
    {
     "name": "stderr",
     "output_type": "stream",
     "text": [
      "Epochs:   0%|          | 0/120 [00:00<?, ?it/s]"
     ]
    },
    {
     "name": "stdout",
     "output_type": "stream",
     "text": [
      "[Sanity] imgs.shape=torch.Size([8, 1, 32, 32]), msks.shape=torch.Size([8, 3, 32, 32])\n",
      "[Sanity] logits.shape=torch.Size([8, 3, 32, 32]), msks.shape=torch.Size([8, 3, 32, 32])\n"
     ]
    },
    {
     "name": "stderr",
     "output_type": "stream",
     "text": [
      "\n",
      "val 001:  22%|██▏       | 11/50 [00:01<00:03, 12.12it/s, loss=0.443]"
     ]
    },
    {
     "name": "stdout",
     "output_type": "stream",
     "text": [
      "[Sanity] imgs.shape=torch.Size([8, 1, 32, 32]), msks.shape=torch.Size([8, 3, 32, 32])\n",
      "[Sanity] logits.shape=torch.Size([8, 3, 32, 32]), msks.shape=torch.Size([8, 3, 32, 32])\n"
     ]
    },
    {
     "name": "stderr",
     "output_type": "stream",
     "text": [
      "Epochs:   1%|          | 1/120 [00:05<10:31,  5.31s/it]"
     ]
    },
    {
     "name": "stdout",
     "output_type": "stream",
     "text": [
      "Epoch 001 | train_loss=0.5949 val_loss=0.4568 | IoU_CR=0.409 IoU_PS=0.630 IoU_EL=0.000\n",
      "✅  saved → checkpoints_multilabel/unet_multilabel_ep1_last.pt\n",
      "✅  saved → checkpoints_multilabel/unet_multilabel_ep1_best.pt\n"
     ]
    },
    {
     "name": "stderr",
     "output_type": "stream",
     "text": [
      "Epochs:   2%|▏         | 2/120 [00:10<10:46,  5.48s/it]"
     ]
    },
    {
     "name": "stdout",
     "output_type": "stream",
     "text": [
      "Epoch 002 | train_loss=0.4211 val_loss=0.3988 | IoU_CR=0.537 IoU_PS=0.714 IoU_EL=0.000\n",
      "✅  saved → checkpoints_multilabel/unet_multilabel_ep2_last.pt\n",
      "✅  saved → checkpoints_multilabel/unet_multilabel_ep2_best.pt\n"
     ]
    },
    {
     "name": "stderr",
     "output_type": "stream",
     "text": [
      "Epochs:   2%|▎         | 3/120 [00:15<10:17,  5.28s/it]"
     ]
    },
    {
     "name": "stdout",
     "output_type": "stream",
     "text": [
      "Epoch 003 | train_loss=0.3979 val_loss=0.3895 | IoU_CR=0.616 IoU_PS=0.707 IoU_EL=0.000\n",
      "✅  saved → checkpoints_multilabel/unet_multilabel_ep3_last.pt\n",
      "✅  saved → checkpoints_multilabel/unet_multilabel_ep3_best.pt\n"
     ]
    },
    {
     "name": "stderr",
     "output_type": "stream",
     "text": [
      "Epochs:   3%|▎         | 4/120 [00:20<09:55,  5.14s/it]"
     ]
    },
    {
     "name": "stdout",
     "output_type": "stream",
     "text": [
      "Epoch 004 | train_loss=0.3927 val_loss=0.3874 | IoU_CR=0.599 IoU_PS=0.747 IoU_EL=0.000\n",
      "✅  saved → checkpoints_multilabel/unet_multilabel_ep4_last.pt\n",
      "✅  saved → checkpoints_multilabel/unet_multilabel_ep4_best.pt\n"
     ]
    },
    {
     "name": "stderr",
     "output_type": "stream",
     "text": [
      "Epochs:   4%|▍         | 5/120 [00:25<09:37,  5.02s/it]"
     ]
    },
    {
     "name": "stdout",
     "output_type": "stream",
     "text": [
      "Epoch 005 | train_loss=0.3896 val_loss=0.3866 | IoU_CR=0.608 IoU_PS=0.769 IoU_EL=0.000\n",
      "✅  saved → checkpoints_multilabel/unet_multilabel_ep5_last.pt\n",
      "✅  saved → checkpoints_multilabel/unet_multilabel_ep5_best.pt\n"
     ]
    },
    {
     "name": "stderr",
     "output_type": "stream",
     "text": [
      "Epochs:   5%|▌         | 6/120 [00:30<09:40,  5.09s/it]"
     ]
    },
    {
     "name": "stdout",
     "output_type": "stream",
     "text": [
      "Epoch 006 | train_loss=0.3878 val_loss=0.3855 | IoU_CR=0.610 IoU_PS=0.770 IoU_EL=0.000\n",
      "✅  saved → checkpoints_multilabel/unet_multilabel_ep6_last.pt\n",
      "✅  saved → checkpoints_multilabel/unet_multilabel_ep6_best.pt\n"
     ]
    },
    {
     "name": "stderr",
     "output_type": "stream",
     "text": [
      "Epochs:   6%|▌         | 7/120 [00:35<09:31,  5.06s/it]"
     ]
    },
    {
     "name": "stdout",
     "output_type": "stream",
     "text": [
      "Epoch 007 | train_loss=0.3861 val_loss=0.3866 | IoU_CR=0.610 IoU_PS=0.725 IoU_EL=0.000\n",
      "✅  saved → checkpoints_multilabel/unet_multilabel_ep7_last.pt\n",
      "  no val-loss improvement for 1/8 epochs\n"
     ]
    },
    {
     "name": "stderr",
     "output_type": "stream",
     "text": [
      "Epochs:   7%|▋         | 8/120 [00:41<09:39,  5.17s/it]"
     ]
    },
    {
     "name": "stdout",
     "output_type": "stream",
     "text": [
      "Epoch 008 | train_loss=0.3853 val_loss=0.3864 | IoU_CR=0.624 IoU_PS=0.772 IoU_EL=0.000\n",
      "✅  saved → checkpoints_multilabel/unet_multilabel_ep8_last.pt\n",
      "✅  saved → checkpoints_multilabel/unet_multilabel_ep8_best.pt\n",
      "  no val-loss improvement for 2/8 epochs\n"
     ]
    },
    {
     "name": "stderr",
     "output_type": "stream",
     "text": [
      "Epochs:   8%|▊         | 9/120 [00:46<09:33,  5.16s/it]"
     ]
    },
    {
     "name": "stdout",
     "output_type": "stream",
     "text": [
      "Epoch 009 | train_loss=0.3844 val_loss=0.3834 | IoU_CR=0.627 IoU_PS=0.795 IoU_EL=0.000\n",
      "✅  saved → checkpoints_multilabel/unet_multilabel_ep9_last.pt\n",
      "✅  saved → checkpoints_multilabel/unet_multilabel_ep9_best.pt\n"
     ]
    },
    {
     "name": "stderr",
     "output_type": "stream",
     "text": [
      "Epochs:   8%|▊         | 10/120 [00:51<09:19,  5.08s/it]"
     ]
    },
    {
     "name": "stdout",
     "output_type": "stream",
     "text": [
      "Epoch 010 | train_loss=0.3845 val_loss=0.3853 | IoU_CR=0.629 IoU_PS=0.776 IoU_EL=0.000\n",
      "✅  saved → checkpoints_multilabel/unet_multilabel_ep10_last.pt\n",
      "  no val-loss improvement for 1/8 epochs\n"
     ]
    },
    {
     "name": "stderr",
     "output_type": "stream",
     "text": [
      "Epochs:   9%|▉         | 11/120 [00:56<09:29,  5.22s/it]"
     ]
    },
    {
     "name": "stdout",
     "output_type": "stream",
     "text": [
      "Epoch 011 | train_loss=0.3836 val_loss=0.3833 | IoU_CR=0.631 IoU_PS=0.800 IoU_EL=0.000\n",
      "✅  saved → checkpoints_multilabel/unet_multilabel_ep11_last.pt\n",
      "✅  saved → checkpoints_multilabel/unet_multilabel_ep11_best.pt\n"
     ]
    },
    {
     "name": "stderr",
     "output_type": "stream",
     "text": [
      "Epochs:  10%|█         | 12/120 [01:01<09:14,  5.14s/it]"
     ]
    },
    {
     "name": "stdout",
     "output_type": "stream",
     "text": [
      "Epoch 012 | train_loss=0.3832 val_loss=0.3864 | IoU_CR=0.627 IoU_PS=0.764 IoU_EL=0.000\n",
      "✅  saved → checkpoints_multilabel/unet_multilabel_ep12_last.pt\n",
      "  no val-loss improvement for 1/8 epochs\n"
     ]
    },
    {
     "name": "stderr",
     "output_type": "stream",
     "text": [
      "Epochs:  11%|█         | 13/120 [01:07<09:12,  5.16s/it]"
     ]
    },
    {
     "name": "stdout",
     "output_type": "stream",
     "text": [
      "Epoch 013 | train_loss=0.3823 val_loss=0.3836 | IoU_CR=0.641 IoU_PS=0.787 IoU_EL=0.000\n",
      "✅  saved → checkpoints_multilabel/unet_multilabel_ep13_last.pt\n",
      "  no val-loss improvement for 2/8 epochs\n"
     ]
    },
    {
     "name": "stderr",
     "output_type": "stream",
     "text": [
      "Epochs:  12%|█▏        | 14/120 [01:12<09:11,  5.21s/it]"
     ]
    },
    {
     "name": "stdout",
     "output_type": "stream",
     "text": [
      "Epoch 014 | train_loss=0.3813 val_loss=0.3834 | IoU_CR=0.614 IoU_PS=0.797 IoU_EL=0.000\n",
      "✅  saved → checkpoints_multilabel/unet_multilabel_ep14_last.pt\n",
      "  no val-loss improvement for 3/8 epochs\n"
     ]
    },
    {
     "name": "stderr",
     "output_type": "stream",
     "text": [
      "Epochs:  12%|█▎        | 15/120 [01:17<09:12,  5.26s/it]"
     ]
    },
    {
     "name": "stdout",
     "output_type": "stream",
     "text": [
      "Epoch 015 | train_loss=0.3809 val_loss=0.3828 | IoU_CR=0.632 IoU_PS=0.801 IoU_EL=0.000\n",
      "✅  saved → checkpoints_multilabel/unet_multilabel_ep15_last.pt\n",
      "✅  saved → checkpoints_multilabel/unet_multilabel_ep15_best.pt\n"
     ]
    },
    {
     "name": "stderr",
     "output_type": "stream",
     "text": [
      "Epochs:  13%|█▎        | 16/120 [01:23<09:06,  5.26s/it]"
     ]
    },
    {
     "name": "stdout",
     "output_type": "stream",
     "text": [
      "Epoch 016 | train_loss=0.3815 val_loss=0.3823 | IoU_CR=0.644 IoU_PS=0.779 IoU_EL=0.000\n",
      "✅  saved → checkpoints_multilabel/unet_multilabel_ep16_last.pt\n"
     ]
    },
    {
     "name": "stderr",
     "output_type": "stream",
     "text": [
      "Epochs:  14%|█▍        | 17/120 [01:28<09:02,  5.27s/it]"
     ]
    },
    {
     "name": "stdout",
     "output_type": "stream",
     "text": [
      "Epoch 017 | train_loss=0.3805 val_loss=0.3831 | IoU_CR=0.620 IoU_PS=0.807 IoU_EL=0.000\n",
      "✅  saved → checkpoints_multilabel/unet_multilabel_ep17_last.pt\n",
      "  no val-loss improvement for 1/8 epochs\n"
     ]
    },
    {
     "name": "stderr",
     "output_type": "stream",
     "text": [
      "Epochs:  15%|█▌        | 18/120 [01:33<09:09,  5.39s/it]"
     ]
    },
    {
     "name": "stdout",
     "output_type": "stream",
     "text": [
      "Epoch 018 | train_loss=0.3801 val_loss=0.3825 | IoU_CR=0.645 IoU_PS=0.811 IoU_EL=0.000\n",
      "✅  saved → checkpoints_multilabel/unet_multilabel_ep18_last.pt\n",
      "✅  saved → checkpoints_multilabel/unet_multilabel_ep18_best.pt\n",
      "  no val-loss improvement for 2/8 epochs\n"
     ]
    },
    {
     "name": "stderr",
     "output_type": "stream",
     "text": [
      "Epochs:  16%|█▌        | 19/120 [01:39<09:12,  5.47s/it]"
     ]
    },
    {
     "name": "stdout",
     "output_type": "stream",
     "text": [
      "Epoch 019 | train_loss=0.3798 val_loss=0.3824 | IoU_CR=0.648 IoU_PS=0.782 IoU_EL=0.000\n",
      "✅  saved → checkpoints_multilabel/unet_multilabel_ep19_last.pt\n",
      "  no val-loss improvement for 3/8 epochs\n"
     ]
    },
    {
     "name": "stderr",
     "output_type": "stream",
     "text": [
      "Epochs:  17%|█▋        | 20/120 [01:45<09:06,  5.46s/it]"
     ]
    },
    {
     "name": "stdout",
     "output_type": "stream",
     "text": [
      "Epoch 020 | train_loss=0.3798 val_loss=0.3837 | IoU_CR=0.628 IoU_PS=0.807 IoU_EL=0.000\n",
      "✅  saved → checkpoints_multilabel/unet_multilabel_ep20_last.pt\n",
      "  no val-loss improvement for 4/8 epochs\n"
     ]
    },
    {
     "name": "stderr",
     "output_type": "stream",
     "text": [
      "Epochs:  18%|█▊        | 21/120 [01:50<09:00,  5.46s/it]"
     ]
    },
    {
     "name": "stdout",
     "output_type": "stream",
     "text": [
      "Epoch 021 | train_loss=0.3756 val_loss=0.3799 | IoU_CR=0.658 IoU_PS=0.814 IoU_EL=0.000\n",
      "✅  saved → checkpoints_multilabel/unet_multilabel_ep21_last.pt\n",
      "✅  saved → checkpoints_multilabel/unet_multilabel_ep21_best.pt\n"
     ]
    },
    {
     "name": "stderr",
     "output_type": "stream",
     "text": [
      "Epochs:  18%|█▊        | 22/120 [01:56<08:59,  5.51s/it]"
     ]
    },
    {
     "name": "stdout",
     "output_type": "stream",
     "text": [
      "Epoch 022 | train_loss=0.3745 val_loss=0.3799 | IoU_CR=0.655 IoU_PS=0.826 IoU_EL=0.000\n",
      "✅  saved → checkpoints_multilabel/unet_multilabel_ep22_last.pt\n",
      "✅  saved → checkpoints_multilabel/unet_multilabel_ep22_best.pt\n",
      "  no val-loss improvement for 1/8 epochs\n"
     ]
    },
    {
     "name": "stderr",
     "output_type": "stream",
     "text": [
      "Epochs:  19%|█▉        | 23/120 [02:01<08:49,  5.45s/it]"
     ]
    },
    {
     "name": "stdout",
     "output_type": "stream",
     "text": [
      "Epoch 023 | train_loss=0.3737 val_loss=0.3805 | IoU_CR=0.654 IoU_PS=0.825 IoU_EL=0.000\n",
      "✅  saved → checkpoints_multilabel/unet_multilabel_ep23_last.pt\n",
      "  no val-loss improvement for 2/8 epochs\n"
     ]
    },
    {
     "name": "stderr",
     "output_type": "stream",
     "text": [
      "Epochs:  20%|██        | 24/120 [02:06<08:43,  5.45s/it]"
     ]
    },
    {
     "name": "stdout",
     "output_type": "stream",
     "text": [
      "Epoch 024 | train_loss=0.3732 val_loss=0.3802 | IoU_CR=0.657 IoU_PS=0.828 IoU_EL=0.000\n",
      "✅  saved → checkpoints_multilabel/unet_multilabel_ep24_last.pt\n",
      "✅  saved → checkpoints_multilabel/unet_multilabel_ep24_best.pt\n",
      "  no val-loss improvement for 3/8 epochs\n"
     ]
    },
    {
     "name": "stderr",
     "output_type": "stream",
     "text": [
      "Epochs:  21%|██        | 25/120 [02:12<08:34,  5.41s/it]"
     ]
    },
    {
     "name": "stdout",
     "output_type": "stream",
     "text": [
      "Epoch 025 | train_loss=0.3727 val_loss=0.3804 | IoU_CR=0.652 IoU_PS=0.820 IoU_EL=0.000\n",
      "✅  saved → checkpoints_multilabel/unet_multilabel_ep25_last.pt\n",
      "  no val-loss improvement for 4/8 epochs\n"
     ]
    },
    {
     "name": "stderr",
     "output_type": "stream",
     "text": [
      "Epochs:  22%|██▏       | 26/120 [02:17<08:28,  5.41s/it]"
     ]
    },
    {
     "name": "stdout",
     "output_type": "stream",
     "text": [
      "Epoch 026 | train_loss=0.3704 val_loss=0.3795 | IoU_CR=0.662 IoU_PS=0.832 IoU_EL=0.000\n",
      "✅  saved → checkpoints_multilabel/unet_multilabel_ep26_last.pt\n",
      "✅  saved → checkpoints_multilabel/unet_multilabel_ep26_best.pt\n"
     ]
    },
    {
     "name": "stderr",
     "output_type": "stream",
     "text": [
      "Epochs:  22%|██▎       | 27/120 [02:23<08:25,  5.44s/it]"
     ]
    },
    {
     "name": "stdout",
     "output_type": "stream",
     "text": [
      "Epoch 027 | train_loss=0.3700 val_loss=0.3793 | IoU_CR=0.661 IoU_PS=0.830 IoU_EL=0.000\n",
      "✅  saved → checkpoints_multilabel/unet_multilabel_ep27_last.pt\n"
     ]
    },
    {
     "name": "stderr",
     "output_type": "stream",
     "text": [
      "Epochs:  23%|██▎       | 28/120 [02:28<08:29,  5.53s/it]"
     ]
    },
    {
     "name": "stdout",
     "output_type": "stream",
     "text": [
      "Epoch 028 | train_loss=0.3699 val_loss=0.3799 | IoU_CR=0.663 IoU_PS=0.830 IoU_EL=0.000\n",
      "✅  saved → checkpoints_multilabel/unet_multilabel_ep28_last.pt\n",
      "  no val-loss improvement for 1/8 epochs\n"
     ]
    },
    {
     "name": "stderr",
     "output_type": "stream",
     "text": [
      "Epochs:  24%|██▍       | 29/120 [02:34<08:26,  5.56s/it]"
     ]
    },
    {
     "name": "stdout",
     "output_type": "stream",
     "text": [
      "Epoch 029 | train_loss=0.3694 val_loss=0.3793 | IoU_CR=0.662 IoU_PS=0.832 IoU_EL=0.000\n",
      "✅  saved → checkpoints_multilabel/unet_multilabel_ep29_last.pt\n",
      "  no val-loss improvement for 2/8 epochs\n"
     ]
    },
    {
     "name": "stderr",
     "output_type": "stream",
     "text": [
      "Epochs:  25%|██▌       | 30/120 [02:39<08:17,  5.52s/it]"
     ]
    },
    {
     "name": "stdout",
     "output_type": "stream",
     "text": [
      "Epoch 030 | train_loss=0.3688 val_loss=0.3801 | IoU_CR=0.658 IoU_PS=0.828 IoU_EL=0.000\n",
      "✅  saved → checkpoints_multilabel/unet_multilabel_ep30_last.pt\n",
      "  no val-loss improvement for 3/8 epochs\n"
     ]
    },
    {
     "name": "stderr",
     "output_type": "stream",
     "text": [
      "Epochs:  26%|██▌       | 31/120 [02:45<08:09,  5.50s/it]"
     ]
    },
    {
     "name": "stdout",
     "output_type": "stream",
     "text": [
      "Epoch 031 | train_loss=0.3685 val_loss=0.3802 | IoU_CR=0.660 IoU_PS=0.828 IoU_EL=0.000\n",
      "✅  saved → checkpoints_multilabel/unet_multilabel_ep31_last.pt\n",
      "  no val-loss improvement for 4/8 epochs\n"
     ]
    },
    {
     "name": "stderr",
     "output_type": "stream",
     "text": [
      "Epochs:  27%|██▋       | 32/120 [02:50<08:04,  5.51s/it]"
     ]
    },
    {
     "name": "stdout",
     "output_type": "stream",
     "text": [
      "Epoch 032 | train_loss=0.3674 val_loss=0.3801 | IoU_CR=0.658 IoU_PS=0.831 IoU_EL=0.000\n",
      "✅  saved → checkpoints_multilabel/unet_multilabel_ep32_last.pt\n",
      "  no val-loss improvement for 5/8 epochs\n"
     ]
    },
    {
     "name": "stderr",
     "output_type": "stream",
     "text": [
      "Epochs:  28%|██▊       | 33/120 [02:56<07:58,  5.50s/it]"
     ]
    },
    {
     "name": "stdout",
     "output_type": "stream",
     "text": [
      "Epoch 033 | train_loss=0.3675 val_loss=0.3800 | IoU_CR=0.661 IoU_PS=0.833 IoU_EL=0.000\n",
      "✅  saved → checkpoints_multilabel/unet_multilabel_ep33_last.pt\n",
      "  no val-loss improvement for 6/8 epochs\n"
     ]
    },
    {
     "name": "stderr",
     "output_type": "stream",
     "text": [
      "Epochs:  28%|██▊       | 34/120 [03:02<07:56,  5.54s/it]"
     ]
    },
    {
     "name": "stdout",
     "output_type": "stream",
     "text": [
      "Epoch 034 | train_loss=0.3668 val_loss=0.3801 | IoU_CR=0.661 IoU_PS=0.834 IoU_EL=0.000\n",
      "✅  saved → checkpoints_multilabel/unet_multilabel_ep34_last.pt\n",
      "✅  saved → checkpoints_multilabel/unet_multilabel_ep34_best.pt\n",
      "  no val-loss improvement for 7/8 epochs\n"
     ]
    },
    {
     "name": "stderr",
     "output_type": "stream",
     "text": [
      "Epochs:  28%|██▊       | 34/120 [03:07<07:54,  5.52s/it]"
     ]
    },
    {
     "name": "stdout",
     "output_type": "stream",
     "text": [
      "Epoch 035 | train_loss=0.3670 val_loss=0.3798 | IoU_CR=0.663 IoU_PS=0.834 IoU_EL=0.000\n",
      "✅  saved → checkpoints_multilabel/unet_multilabel_ep35_last.pt\n",
      "✅  saved → checkpoints_multilabel/unet_multilabel_ep35_best.pt\n",
      "  no val-loss improvement for 8/8 epochs\n",
      "Early stopping at epoch 35\n",
      "Training complete — best val IoU = 0.499 in 187s\n",
      "Final Validation IoU - CR: 0.663, PS: 0.834\n"
     ]
    },
    {
     "name": "stderr",
     "output_type": "stream",
     "text": [
      "\n"
     ]
    }
   ],
   "source": [
    "train_hist, val_hist = [], []\n",
    "iou_train_hist, iou_val_hist = [], []\n",
    "acc_train_hist, acc_val_hist = [], []\n",
    "start_time = time.time()\n",
    "best_iou = 0.0\n",
    "best_val_loss = float('inf')\n",
    "stall = 0\n",
    "PATIENCE = 8\n",
    "MIN_DELTA = 1e-5\n",
    "\n",
    "for epoch in trange(1, EPOCHS + 1, desc='Epochs'):\n",
    "    tr_loss, tr_iou, tr_acc, tr_iou_vec, tr_acc_vec = run_epoch(train_loader, True, epoch)\n",
    "    val_loss, val_iou, val_acc, val_iou_vec, val_acc_vec = run_epoch(val_loader, False, epoch)\n",
    "    sched.step(val_loss)\n",
    "\n",
    "    print(\n",
    "        f\"Epoch {epoch:03d} | train_loss={tr_loss:.4f} val_loss={val_loss:.4f} | \"\n",
    "        f\"IoU_CR={val_iou_vec[0]:.3f} IoU_PS={val_iou_vec[1]:.3f} IoU_EL={val_iou_vec[2]:.3f}\"\n",
    "    )\n",
    "\n",
    "    train_hist.append(tr_loss)\n",
    "    val_hist.append(val_loss)\n",
    "    iou_train_hist.append(tr_iou)\n",
    "    iou_val_hist.append(val_iou_vec)\n",
    "    acc_train_hist.append(tr_acc)\n",
    "    acc_val_hist.append(val_acc)\n",
    "\n",
    "    # Save checkpoints\n",
    "    save_ckpt(model, opt, epoch, tag='last')\n",
    "    if val_iou > best_iou:\n",
    "        best_iou = val_iou\n",
    "        save_ckpt(model, opt, epoch, tag='best')\n",
    "\n",
    "    # Early stopping\n",
    "    if val_loss < best_val_loss - MIN_DELTA:\n",
    "        best_val_loss = val_loss\n",
    "        stall = 0\n",
    "    else:\n",
    "        stall += 1\n",
    "        print(f\"  no val-loss improvement for {stall}/{PATIENCE} epochs\")\n",
    "        if stall >= PATIENCE:\n",
    "            print(f\"Early stopping at epoch {epoch}\")\n",
    "            break\n",
    "\n",
    "elapsed = time.time() - start_time\n",
    "print(f\"Training complete — best val IoU = {best_iou:.3f} in {int(elapsed)}s\")\n",
    "print(f\"Final Validation IoU - CR: {val_iou_vec[0]:.3f}, PS: {val_iou_vec[1]:.3f}, EL: {val_iou_vec[2]:.3f}\")\n"
   ]
  },
  {
   "cell_type": "markdown",
   "id": "707ce7dd",
   "metadata": {},
   "source": [
    "### 7.4. Log Run Information "
   ]
  },
  {
   "cell_type": "code",
   "execution_count": 26,
   "id": "2fb8b2ef",
   "metadata": {},
   "outputs": [
    {
     "name": "stdout",
     "output_type": "stream",
     "text": [
      "📝  logged run #2 to run_log_multilabel.csv\n"
     ]
    }
   ],
   "source": [
    "# ----- prepare one row of metrics & settings ------------------------------\n",
    "run_id = next_run_id()\n",
    "\n",
    "log_run(\n",
    "    run_id         = run_id,\n",
    "    timestamp      = datetime.datetime.now().isoformat(timespec=\"seconds\"),\n",
    "    epochs         = epoch,                    # last epoch actually run\n",
    "    batch_size     = BATCH_SIZE,\n",
    "    num_workers    = NUM_WORKERS,\n",
    "    dataset_size   = len(train_ds) + len(val_ds) + len(test_ds),\n",
    "    train_loss     = train_hist[-1],\n",
    "    val_loss       = val_hist[-1],\n",
    "    best_val_iou   = best_iou,\n",
    "    iou_cosmic     = val_iou_vec[0].cpu().item(),    # last epoch's per-class IoU\n",
    "    iou_pointsrc   = val_iou_vec[1].cpu().item(),\n",
    "    pixel_acc      = acc_val_hist[-1],\n",
    "    gpu_used       = torch.cuda.current_device(),\n",
    "    train_time_hms = str(datetime.timedelta(seconds=int(elapsed)))\n",
    ")\n",
    "\n",
    "print(f\"📝  logged run #{run_id} to {LOG_PATH}\")"
   ]
  },
  {
   "cell_type": "markdown",
   "id": "ea317a5f",
   "metadata": {},
   "source": [
    "## 8. Plot Training Curves"
   ]
  },
  {
   "cell_type": "code",
   "execution_count": 27,
   "id": "0f0d7a89",
   "metadata": {},
   "outputs": [
    {
     "data": {
      "image/png": "[encoded data removed]",
      "text/plain": [
       "<Figure size 600x400 with 1 Axes>"
      ]
     },
     "metadata": {},
     "output_type": "display_data"
    },
    {
     "data": {
      "image/png": "[encoded data removed]",
      "text/plain": [
       "<Figure size 800x500 with 1 Axes>"
      ]
     },
     "metadata": {},
     "output_type": "display_data"
    },
    {
     "data": {
      "image/png": "[encoded data removed]",
      "text/plain": [
       "<Figure size 640x480 with 1 Axes>"
      ]
     },
     "metadata": {},
     "output_type": "display_data"
    }
   ],
   "source": [
    "# Loss curves\n",
    "plt.figure(figsize=(6,4))\n",
    "plt.plot(train_hist, label='Train Loss')\n",
    "plt.plot(val_hist,   label='Val Loss')\n",
    "plt.xlabel('Epoch'); plt.ylabel('Loss')\n",
    "plt.title('Training and Validation Loss')\n",
    "plt.legend(); plt.grid(True)\n",
    "plt.show()\n",
    "\n",
    "# IoU and Accuracy curves\n",
    "# Convert tensors to CPU floats\n",
    "cr_iou = [t[0].cpu().item() for t in iou_val_hist]\n",
    "ps_iou = [t[1].cpu().item() for t in iou_val_hist]\n",
    "el_iou = [t[2].cpu().item() for t in iou_val_hist]\n",
    "\n",
    "epochs = range(1, len(iou_val_hist) + 1)\n",
    "\n",
    "plt.figure(figsize=(8, 5))\n",
    "plt.plot(epochs, cr_iou, label='CR IoU')\n",
    "plt.plot(epochs, ps_iou, label='PS IoU')\n",
    "plt.plot(epochs, el_iou, label='EL IoU')\n",
    "plt.xlabel('Epoch')\n",
    "plt.ylabel('IoU')\n",
    "plt.title('Per-Class IoU Over Epochs')\n",
    "plt.legend()\n",
    "plt.grid(True)\n",
    "plt.tight_layout()\n",
    "plt.show()\n",
    "\n",
    "plt.subplot(1,2,2)\n",
    "plt.plot(epochs, acc_train_hist, label='Train Acc')\n",
    "plt.plot(epochs, acc_val_hist,   label='Val Acc')\n",
    "plt.xlabel('Epoch'); plt.ylabel('Accuracy'); plt.title('Accuracy Curve'); plt.legend(); plt.grid(True)\n",
    "plt.tight_layout(); plt.show()\n",
    "\n"
   ]
  },
  {
   "cell_type": "markdown",
   "id": "ec9988c5",
   "metadata": {},
   "source": [
    "## 9. Visualization of Predictions "
   ]
  },
  {
   "cell_type": "code",
   "execution_count": 28,
   "id": "b96f3cbc",
   "metadata": {},
   "outputs": [
    {
     "name": "stdout",
     "output_type": "stream",
     "text": [
      "✅  checkpoint loaded: unet_multilabel_ep35_best.pt | epoch 35\n"
     ]
    },
    {
     "data": {
      "image/png": "[encoded data removed]",
      "text/plain": [
       "<Figure size 1200x1200 with 16 Axes>"
      ]
     },
     "metadata": {},
     "output_type": "display_data"
    },
    {
     "data": {
      "image/png": "[encoded data removed]",
      "text/plain": [
       "<Figure size 1200x1200 with 16 Axes>"
      ]
     },
     "metadata": {},
     "output_type": "display_data"
    }
   ],
   "source": [
    "def composite_map(probs, thr=0.5):\n",
    "    # probs: (3,H,W) tensor\n",
    "    masks = probs > thr\n",
    "    colors = torch.tensor([[220,20,60],[255,105,180],[255,255,0]],dtype=torch.uint8)\n",
    "    H,W = masks.shape[1:]\n",
    "    comp = torch.zeros(3,H,W,dtype=torch.uint8)\n",
    "    for i in range(3): comp[:,masks[i]] = colors[i].view(3,1)\n",
    "    return comp.permute(1,2,0).cpu().numpy()\n",
    "\n",
    "CKPT_PATH = Path(\"/home/theanas12/anasProjects/models/checkpoints_multilabel/unet_multilabel_ep26_best.pt\")  \n",
    "CKPT_PATH = Path(\"/home/theanas12/anasProjects/cmb_Unet_run1/models/checkpoints_multilabel/unet_multilabel_ep35_best.pt\")  \n",
    "\n",
    "\n",
    "DEVICE    = \"cuda\" if torch.cuda.is_available() else \"cpu\"         \n",
    "model = TinyUNet().to(DEVICE)\n",
    "\n",
    "#2. load weights\n",
    "ckpt  = torch.load(CKPT_PATH, map_location=DEVICE)\n",
    "model.load_state_dict(ckpt[\"model\"])   # key name set by save_ckpt\n",
    "model.eval()                                 # switch to inference mode\n",
    "\n",
    "print(\"✅  checkpoint loaded:\",\n",
    "      CKPT_PATH.name, \"| epoch\", ckpt[\"epoch\"])\n",
    "\n",
    "# Show one batch\n",
    "model.eval()\n",
    "# imgs, msks = next(iter(test_loader))\n",
    "import random\n",
    "\n",
    "def shuffle_iter(it):\n",
    "    entries = list(it)       # collect all batches\n",
    "    random.shuffle(entries)  # shuffle in place\n",
    "    return iter(entries)     # return a new iterator\n",
    "\n",
    "imgs, msks = next(shuffle_iter(iter(test_loader)))\n",
    "imgs, msks = next(shuffle_iter(iter(val_loader)))\n",
    "with torch.no_grad():\n",
    "    preds = torch.sigmoid(model(imgs.to(DEVICE)))\n",
    "\n",
    "fig, axes = plt.subplots(4,4,figsize=(12,12))\n",
    "for i in range(4):\n",
    "    axes[0,i].imshow(imgs[i,0],cmap='gray'); axes[0,i].set_title('Input')\n",
    "    for j,cls in enumerate(['CR','PS','EL']):\n",
    "        axes[j+1,i].imshow(preds[i,j].cpu(),cmap='gray'); axes[j+1,i].set_title(f'Prob {cls}')\n",
    "for ax in axes.flatten(): ax.axis('off')\n",
    "plt.tight_layout(); plt.show()\n",
    "\n",
    "fig, axes = plt.subplots(4,4,figsize=(12,12))\n",
    "for i in range(4):\n",
    "    comp = composite_map(preds[i])\n",
    "    axes[0,i].imshow(comp); axes[0,i].set_title('Composite')\n",
    "    axes[1,i].imshow(msks[i,0], cmap='viridis'); axes[1,i].set_title('GT CR')\n",
    "    axes[2,i].imshow(msks[i,1], cmap='viridis'); axes[2,i].set_title('GT PS')\n",
    "    axes[3,i].imshow(msks[i,2], cmap='viridis'); axes[3,i].set_title('GT EL')\n",
    "for ax in axes.flatten(): ax.axis('off')\n",
    "plt.tight_layout(); plt.show()"
   ]
  },
  {
   "cell_type": "markdown",
   "id": "3dbd0eaa",
   "metadata": {},
   "source": [
    "## 10. Visualization of Predictions Against Ground Truth"
   ]
  },
  {
   "cell_type": "code",
   "execution_count": 29,
   "id": "adc5637b",
   "metadata": {},
   "outputs": [
    {
     "data": {
      "image/png": "[encoded data removed]",
      "text/plain": [
       "<Figure size 1000x400 with 8 Axes>"
      ]
     },
     "metadata": {},
     "output_type": "display_data"
    }
   ],
   "source": [
    "N = 2\n",
    "model.eval()\n",
    "fig, axes = plt.subplots(N, 4, figsize=(10, 2*N))\n",
    "for r in range(N):\n",
    "    idx = random.randrange(len(test_ds))\n",
    "    img, msk = test_ds[idx]\n",
    "    with torch.no_grad():\n",
    "        pred = torch.sigmoid(model(img.unsqueeze(0).to(DEVICE)))[0]\n",
    "    # Input\n",
    "    axes[r,0].imshow(img[0], cmap='gray'); axes[r,0].set_title('Input')\n",
    "    # Predictions composite\n",
    "    comp = composite_map(pred, thr=0.75)\n",
    "    axes[r,1].imshow(comp); axes[r,1].set_title('Prediction')\n",
    "    # Ground Truth composite\n",
    "    gt_comp = composite_map(msk)\n",
    "    axes[r,2].imshow(gt_comp); axes[r,2].set_title('Ground Truth')\n",
    "    # Per-channel probabilities\n",
    "    axes[r,3].plot(pred[0].cpu().flatten(), '.', label='CR')\n",
    "    axes[r,3].plot(pred[1].cpu().flatten(), '.', label='PS')\n",
    "    axes[r,3].plot(pred[2].cpu().flatten(), '.', label='EL')\n",
    "    axes[r,3].legend(loc='upper right')\n",
    "for c in range(4): axes[r,c].axis('off')\n",
    "plt.tight_layout(); plt.show()"
   ]
  },
  {
   "cell_type": "code",
   "execution_count": null,
   "id": "6a8dc2ea",
   "metadata": {},
   "outputs": [],
   "source": []
  }
 ],
 "metadata": {
  "kernelspec": {
   "display_name": "cmb_py310",
   "language": "python",
   "name": "python3"
  },
  "language_info": {
   "codemirror_mode": {
    "name": "ipython",
    "version": 3
   },
   "file_extension": ".py",
   "mimetype": "text/x-python",
   "name": "python",
   "nbconvert_exporter": "python",
   "pygments_lexer": "ipython3",
   "version": "3.10.18"
  }
 },
 "nbformat": 4,
 "nbformat_minor": 5
}
